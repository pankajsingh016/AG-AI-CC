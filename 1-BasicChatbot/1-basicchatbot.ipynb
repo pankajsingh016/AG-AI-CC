{
 "cells": [
  {
   "cell_type": "code",
   "execution_count": 1,
   "id": "bfe363e8",
   "metadata": {},
   "outputs": [
    {
     "name": "stdout",
     "output_type": "stream",
     "text": [
      "Hello world\n"
     ]
    }
   ],
   "source": [
    "print('Hello world')"
   ]
  },
  {
   "cell_type": "markdown",
   "id": "28f17d76",
   "metadata": {},
   "source": [
    "## Build a basic chatbot with langraph (graph Api)"
   ]
  },
  {
   "cell_type": "code",
   "execution_count": 2,
   "id": "4264483c",
   "metadata": {},
   "outputs": [],
   "source": [
    "from typing import Annotated\n",
    "from typing_extensions import TypedDict\n",
    "from langgraph.graph import StateGraph,START,END\n",
    "from langgraph.graph.message import add_messages\n",
    "\n"
   ]
  },
  {
   "cell_type": "code",
   "execution_count": 3,
   "id": "39b68ed3",
   "metadata": {},
   "outputs": [],
   "source": [
    "class State(TypedDict): # inheriting typedict as it is going to return typedict \n",
    "    # Messages have the type 'list'. The `add_messages` function.\n",
    "    # In the annotation defines. How the state key should be updated.\n",
    "    # In this case, it appends messages to the list, rather than overwriting them.\n",
    "    messages:Annotated[list, add_messages]\n",
    "\n",
    "graph_builder = StateGraph(State)\n"
   ]
  },
  {
   "cell_type": "code",
   "execution_count": 4,
   "id": "36d10841",
   "metadata": {},
   "outputs": [
    {
     "data": {
      "text/plain": [
       "<langgraph.graph.state.StateGraph at 0x7598366cba10>"
      ]
     },
     "execution_count": 4,
     "metadata": {},
     "output_type": "execute_result"
    }
   ],
   "source": [
    "graph_builder"
   ]
  },
  {
   "cell_type": "code",
   "execution_count": 5,
   "id": "b4b7a9b5",
   "metadata": {},
   "outputs": [
    {
     "data": {
      "text/plain": [
       "True"
      ]
     },
     "execution_count": 5,
     "metadata": {},
     "output_type": "execute_result"
    }
   ],
   "source": [
    "import os\n",
    "from dotenv import load_dotenv\n",
    "load_dotenv()"
   ]
  },
  {
   "cell_type": "code",
   "execution_count": 6,
   "id": "09feb462",
   "metadata": {},
   "outputs": [],
   "source": [
    "from langchain_groq import ChatGroq\n",
    "from langchain.chat_models import init_chat_model\n",
    "llm = ChatGroq(model=\"llama3-8b-8192\") # option 1 of initialization of llm"
   ]
  },
  {
   "cell_type": "code",
   "execution_count": 7,
   "id": "84b6e904",
   "metadata": {},
   "outputs": [
    {
     "data": {
      "text/plain": [
       "ChatGroq(client=<groq.resources.chat.completions.Completions object at 0x759835925550>, async_client=<groq.resources.chat.completions.AsyncCompletions object at 0x759835926120>, model_name='llama3-8b-8192', model_kwargs={}, groq_api_key=SecretStr('**********'))"
      ]
     },
     "execution_count": 7,
     "metadata": {},
     "output_type": "execute_result"
    }
   ],
   "source": [
    "llm"
   ]
  },
  {
   "cell_type": "code",
   "execution_count": 8,
   "id": "175bb2a2",
   "metadata": {},
   "outputs": [
    {
     "data": {
      "text/plain": [
       "ChatGroq(client=<groq.resources.chat.completions.Completions object at 0x7598359d2210>, async_client=<groq.resources.chat.completions.AsyncCompletions object at 0x7598359d2c10>, model_name='llama3-8b-8192', model_kwargs={}, groq_api_key=SecretStr('**********'))"
      ]
     },
     "execution_count": 8,
     "metadata": {},
     "output_type": "execute_result"
    }
   ],
   "source": [
    "llm = init_chat_model(\"groq:llama3-8b-8192\") # option 2 of initialization of llm\n",
    "llm"
   ]
  },
  {
   "cell_type": "code",
   "execution_count": 9,
   "id": "d5afc5c9",
   "metadata": {},
   "outputs": [],
   "source": [
    "# Node functionality\n",
    "def chatbot(state:State):\n",
    "    return {\"messages\":[llm.invoke(state[\"messages\"])]}\n"
   ]
  },
  {
   "cell_type": "code",
   "execution_count": 10,
   "id": "7126895c",
   "metadata": {},
   "outputs": [],
   "source": [
    "# adding a node in the bot\n",
    "graph_builder.add_node(\"llmchatbot\",chatbot)\n",
    "# adding a edge to the bot start \n",
    "graph_builder.add_edge(START,\"llmchatbot\")\n",
    "# adding a edge to the end of the bot\n",
    "graph_builder.add_edge(\"llmchatbot\",END)\n",
    "\n",
    "# compiling the graph\n",
    "graph = graph_builder.compile()\n"
   ]
  },
  {
   "cell_type": "code",
   "execution_count": 11,
   "id": "3304fda1",
   "metadata": {},
   "outputs": [
    {
     "data": {
      "image/png": "[encoded data removed]",
      "text/plain": [
       "<IPython.core.display.Image object>"
      ]
     },
     "metadata": {},
     "output_type": "display_data"
    }
   ],
   "source": [
    "## Visualize the graph\n",
    "from IPython.display import Image, display\n",
    "\n",
    "try:\n",
    "    display(Image(graph.get_graph().draw_mermaid_png()))\n",
    "except Exception:\n",
    "    pass"
   ]
  },
  {
   "cell_type": "code",
   "execution_count": 25,
   "id": "b8071d2d",
   "metadata": {},
   "outputs": [],
   "source": [
    "s =f'What is (a+b)^3'\n",
    "response = graph.invoke({'messages':s})"
   ]
  },
  {
   "cell_type": "code",
   "execution_count": 26,
   "id": "1a20f838",
   "metadata": {},
   "outputs": [
    {
     "name": "stdout",
     "output_type": "stream",
     "text": [
      "A simple but useful question!\n",
      "\n",
      "The formula for expanding a binomial cube is:\n",
      "\n",
      "(a + b)^3 = a^3 + 3a^2b + 3ab^2 + b^3\n",
      "\n",
      "So, (a + b)^3 is the sum of four terms:\n",
      "\n",
      "1. a^3 (the cube of a)\n",
      "2. 3a^2b (a squared times b)\n",
      "3. 3ab^2 (a times b squared)\n",
      "4. b^3 (the cube of b)\n",
      "\n",
      "This formula can be used to expand any binomial expression raised to the power of 3.\n"
     ]
    }
   ],
   "source": [
    "print(response['messages'][-1].content)"
   ]
  },
  {
   "cell_type": "code",
   "execution_count": 14,
   "id": "36030c47",
   "metadata": {},
   "outputs": [
    {
     "name": "stdout",
     "output_type": "stream",
     "text": [
      "I'm just a language model, I don't have emotions or feelings like humans do, but I'm functioning properly and ready to help you with any questions or tasks you have! How can I assist you today?\n"
     ]
    }
   ],
   "source": [
    "for event in graph.stream({\"messages\":\"Hi How are you?\"}):\n",
    "    for value in event.values():\n",
    "        print(value['messages'][-1].content)"
   ]
  },
  {
   "cell_type": "code",
   "execution_count": 29,
   "id": "3d1c4191",
   "metadata": {},
   "outputs": [],
   "source": [
    "def ask_quiz(topic:str):\n",
    "    message_str = f'Create a quiz of 10 questions regarding topic ${topic} and please return the quiz in json string with 4 Options of each question with that return a json string containing only answer with serial question number.'\n",
    "    response= graph.invoke({'messages':message_str})\n",
    "    return response"
   ]
  },
  {
   "cell_type": "code",
   "execution_count": 31,
   "id": "3b88885f",
   "metadata": {},
   "outputs": [],
   "source": [
    "res = ask_quiz('Digital wAtch')"
   ]
  },
  {
   "cell_type": "code",
   "execution_count": 33,
   "id": "bacdfced",
   "metadata": {},
   "outputs": [
    {
     "name": "stdout",
     "output_type": "stream",
     "text": [
      "Here is a quiz on the topic of Digital Watch with 10 questions and 4 options for each question. The quiz is returned as a JSON string in the format you requested.\n",
      "\n",
      "```\n",
      "{\n",
      "  \"quiz\": [\n",
      "    {\n",
      "      \"question\": \"What is the primary function of a digital watch?\",\n",
      "      \"options\": [\"To make phone calls\", \"To send text messages\", \"To display time and date\", \"To play music\"],\n",
      "      \"answer\": 2\n",
      "    },\n",
      "    {\n",
      "      \"question\": \"What type of display does a digital watch typically have?\",\n",
      "      \"options\": [\"Analog hands\", \"Digital numerals\", \"Analog hands and digital numerals\", \"A mirror\"],\n",
      "      \"answer\": 1\n",
      "    },\n",
      "    {\n",
      "      \"question\": \"What is the most common type of battery used in digital watches?\",\n",
      "      \"options\": [\"Alkaline\", \"Mercury\", \"Lithium\", \"Nickel Cadmium\"],\n",
      "      \"answer\": 3\n",
      "    },\n",
      "    {\n",
      "      \"question\": \"What is the typical resolution of a digital watch's display?\",\n",
      "      \"options\": [\"Low resolution\", \"Medium resolution\", \"High resolution\", \"Ultra-high resolution\"],\n",
      "      \"answer\": 2\n",
      "    },\n",
      "    {\n",
      "      \"question\": \"What feature allows a digital watch to connect to the internet?\",\n",
      "      \"options\": [\"Bluetooth\", \"Wi-Fi\", \"GPS\", \"None of the above\"],\n",
      "      \"answer\": 1\n",
      "    },\n",
      "    {\n",
      "      \"question\": \"What is the primary advantage of a digital watch over an analog watch?\",\n",
      "      \"options\": [\"It is more stylish\", \"It is more accurate\", \"It is more functional\", \"It is more expensive\"],\n",
      "      \"answer\": 2\n",
      "    },\n",
      "    {\n",
      "      \"question\": \"What is the typical power source for a digital watch?\",\n",
      "      \"options\": [\"Solar power\", \"Battery power\", \"Hand-wound power\", \"Kinetic power\"],\n",
      "      \"answer\": 2\n",
      "    },\n",
      "    {\n",
      "      \"question\": \"What feature allows a digital watch to track physical activity?\",\n",
      "      \"options\": [\"GPS\", \"Accelerometer\", \"Heart rate monitor\", \"All of the above\"],\n",
      "      \"answer\": 3\n",
      "    },\n",
      "    {\n",
      "      \"question\": \"What is the typical price range for a basic digital watch?\",\n",
      "      \"options\": [\"Under $20\", \"$20-$50\", \"$50-$100\", \"Over $100\"],\n",
      "      \"answer\": 2\n",
      "    },\n",
      "    {\n",
      "      \"question\": \"What is the primary material used to make the case of a digital watch?\",\n",
      "      \"options\": [\"Steel\", \"Titanium\", \"Plastic\", \"Ceramic\"],\n",
      "      \"answer\": 3\n",
      "    }\n",
      "  ]\n",
      "}\n",
      "```\n",
      "\n",
      "To extract the answers, you can parse the JSON string and retrieve the \"answer\" property from each object in the \"quiz\" array. The answer will be the serial number of the correct option (0-based indexing). For example, the answer to the first question is 2, which corresponds to the option \"To display time and date\".\n"
     ]
    }
   ],
   "source": [
    "print(res['messages'][-1].content)"
   ]
  },
  {
   "cell_type": "code",
   "execution_count": null,
   "id": "676ccede",
   "metadata": {},
   "outputs": [],
   "source": []
  }
 ],
 "metadata": {
  "kernelspec": {
   "display_name": ".venv",
   "language": "python",
   "name": "python3"
  },
  "language_info": {
   "codemirror_mode": {
    "name": "ipython",
    "version": 3
   },
   "file_extension": ".py",
   "mimetype": "text/x-python",
   "name": "python",
   "nbconvert_exporter": "python",
   "pygments_lexer": "ipython3",
   "version": "3.13.3"
  }
 },
 "nbformat": 4,
 "nbformat_minor": 5
}
