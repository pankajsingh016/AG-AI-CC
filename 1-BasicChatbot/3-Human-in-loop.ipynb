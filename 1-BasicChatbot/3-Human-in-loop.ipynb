{
 "cells": [
  {
   "cell_type": "markdown",
   "id": "b04c4a20",
   "metadata": {},
   "source": [
    "### Human in the Loop\n",
    "- Approval need by human to the chatbot to go ahead with the execution"
   ]
  },
  {
   "cell_type": "code",
   "execution_count": null,
   "id": "cd5cd91d",
   "metadata": {},
   "outputs": [],
   "source": [
    "import os\n",
    "from langchain.chat_models import init_chat_model\n",
    "llm = init_chat_model(\"groq:llama3-8b-8192\")\n",
    "llm"
   ]
  },
  {
   "cell_type": "code",
   "execution_count": null,
   "id": "1c08a280",
   "metadata": {},
   "outputs": [],
   "source": [
    "from typing import Annotated\n",
    "from langchain_tavily import TavilySearch\n",
    "from langchain_core.tools import tool \n",
    "from typing_extensions import TypedDict\n",
    "\n",
    "from langgraph.checkpoint.memory import MemorySaver\n",
    "\n",
    "from langgraph.graph import StateGraph, START, END\n",
    "from langgraph.graph.message import add_messages\n",
    "from langgraph.prebuilt import ToolNode, tools_condition\n",
    "\n",
    "from langgraph.types import Command, interrupt"
   ]
  },
  {
   "cell_type": "code",
   "execution_count": null,
   "id": "56cf22a2",
   "metadata": {},
   "outputs": [],
   "source": [
    "# State class\n",
    "class State(TypedDict):\n",
    "    messages:Annotated[list,add_messages]\n",
    "\n",
    "graph_builder = StateGraph(State)\n",
    "memory = MemorySaver()\n",
    "\n",
    "@tool\n",
    "def human_assistance(query:str)->str:\n",
    "    \"\"\"Request Assistance from Human\n",
    "\n",
    "    Args:\n",
    "        query (str): The Query Chatbot have.\n",
    "\n",
    "    Returns:\n",
    "        str: Human Response\n",
    "    \"\"\"\n",
    "    human_response = interrupt({\"query\":query})\n",
    "    return human_response[\"data\"]\n",
    "\n",
    "\n",
    "tool = TavilySearch(max_results=1)\n",
    "tools = [tool, human_assistance]\n",
    "llm_with_tools = llm.bind_tools(tools)\n",
    "\n",
    "# chatbot \n",
    "def chatbot(state:State):\n",
    "    \"\"\"The main chat bot llm with tools bot with human in the loop, Disable the parallel tool calling to avoid repeating any \n",
    "    tool invocations when we resume.\n",
    "    Args:\n",
    "        state (State): The input state of the bot\n",
    "    \"\"\"\n",
    "    message = llm_with_tools.invoke(state[\"messages\"])\n",
    "    return {\"messages\":message}\n",
    "\n",
    "\n",
    "# building the flow now in the graph \n",
    "graph_builder.add_node(\"chatbot\",chatbot);\n",
    "tool_node = ToolNode(tools=tools)\n",
    "graph_builder.add_node(\"tools\",tool_node)\n",
    "graph_builder.add_conditional_edges(\n",
    "    \"chatbot\",\n",
    "    tools_condition\n",
    ")\n",
    "\n",
    "#graph builder adding edges\n",
    "graph_builder.add_edge(\"tools\",\"chatbot\")\n",
    "graph_builder.add_edge(START,\"chatbot\")\n",
    "graph_builder.add_edge(\"chatbot\",END)\n",
    "\n",
    "#graph builder.compile\n",
    "\n",
    "graph = graph_builder.compile(checkpointer=memory)\n",
    "\n",
    "\n",
    "def display_graph(g):\n",
    "    from IPython.display import Image, display\n",
    "    try:\n",
    "        display(Image(g.get_graph().draw_mermaid_png()))\n",
    "    except Exception:\n",
    "        pass\n",
    "\n",
    "display_graph(graph)"
   ]
  },
  {
   "cell_type": "code",
   "execution_count": null,
   "id": "4d858489",
   "metadata": {},
   "outputs": [],
   "source": [
    "user_input = \"I need some expert guidance for building an AI agent. Could you request assistance for me?\"\n",
    "config = {\"configurable\":{\"thread_id\":\"1\"}}\n",
    "\n",
    "events = graph.stream({\"messages\":user_input}, config, stream_mode=\"values\")\n",
    "\n",
    "for event in events:\n",
    "    if \"messages\" in event:\n",
    "        event['messages'][-1].pretty_print()"
   ]
  },
  {
   "cell_type": "code",
   "execution_count": null,
   "id": "323c173d",
   "metadata": {},
   "outputs": [],
   "source": [
    "human_response = (\n",
    "    \"We are happy to help you out checkout langgraph website and docs\"\n",
    "    \"It's much more reliable and extensible than simple autonomous agent.\"\n",
    ")\n",
    "\n",
    "human_command = Command(resume={\"data\":human_response})\n",
    "\n",
    "events = graph.stream(human_command,config,stream_mode=\"values\")\n",
    "\n",
    "for event in events:\n",
    "    if \"messages\" in event:\n",
    "        event['messages'][-1].pretty_print()"
   ]
  },
  {
   "cell_type": "code",
   "execution_count": null,
   "id": "0dfdd0da",
   "metadata": {},
   "outputs": [],
   "source": []
  },
  {
   "cell_type": "code",
   "execution_count": null,
   "id": "c5cb6c24",
   "metadata": {},
   "outputs": [],
   "source": []
  }
 ],
 "metadata": {
  "kernelspec": {
   "display_name": "AG-AI-CC",
   "language": "python",
   "name": "python3"
  },
  "language_info": {
   "codemirror_mode": {
    "name": "ipython",
    "version": 3
   },
   "file_extension": ".py",
   "mimetype": "text/x-python",
   "name": "python",
   "nbconvert_exporter": "python",
   "pygments_lexer": "ipython3",
   "version": "3.13.3"
  }
 },
 "nbformat": 4,
 "nbformat_minor": 5
}
